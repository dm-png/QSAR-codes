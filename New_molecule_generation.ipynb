{
 "cells": [
  {
   "cell_type": "markdown",
   "id": "47f4b7b8-c49e-4e47-bdaf-c904bf8bfea5",
   "metadata": {},
   "source": [
    "# **Take the top 3 active molecules and generate novel molecules** #"
   ]
  },
  {
   "cell_type": "markdown",
   "id": "4f8ad70b-b8f3-44f1-915c-6c824ec92f92",
   "metadata": {},
   "source": [
    "### 1. generate novel molecules ###"
   ]
  },
  {
   "cell_type": "code",
   "execution_count": 1,
   "id": "3860dd7d-8172-4a12-80a9-6406a019dfec",
   "metadata": {},
   "outputs": [],
   "source": [
    "import pandas as pd\n",
    "from padelpy import from_smiles\n",
    "from rdkit import Chem\n",
    "from rdkit.Chem import AllChem\n",
    "import numpy as np"
   ]
  },
  {
   "cell_type": "code",
   "execution_count": 2,
   "id": "e607d756-fa64-4c07-9cf0-cd7e7014de72",
   "metadata": {},
   "outputs": [],
   "source": [
    "# QSAR Regression Model\n",
    "def calculate_pec50(descriptors):\n",
    "    return (\n",
    "        -87.3 + 0.33 * descriptors[\"MDEC-33\"]\n",
    "        - 5.14 * descriptors[\"VE1_Dzp\"]\n",
    "        - 0.16 * descriptors[\"ATSC6e\"]\n",
    "        - 3.49 * descriptors[\"minaaN\"]\n",
    "        + 28.24 * descriptors[\"SpMax4_Bhm\"]\n",
    "        + 0.28 * descriptors[\"nAtomLAC\"]\n",
    "        - 0.08 * descriptors[\"VE3_Dzs\"]\n",
    "    )"
   ]
  },
  {
   "cell_type": "code",
   "execution_count": 4,
   "id": "226ea383-11d7-4bf0-9c8d-0990b5ace3c9",
   "metadata": {},
   "outputs": [],
   "source": [
    "# Global Enumeration: Atom-based and Reaction-based substitutions\n",
    "def enumerate_molecules(smiles):\n",
    "    mol = Chem.MolFromSmiles(smiles)\n",
    "    variants = set()\n",
    "\n",
    "    # Define common replacements for atom-based enumeration\n",
    "    replacements = {\n",
    "        \"F\": [\"Cl\", \"Br\", \"I\", \"H\"],\n",
    "        \"Cl\": [\"F\", \"Br\", \"I\", \"H\"],\n",
    "        \"Br\": [\"F\", \"Cl\", \"I\", \"H\"],\n",
    "        \"OH\": [\"NH2\", \"OCH3\", \"SH\"],\n",
    "        \"CH3\": [\"H\", \"C2H5\", \"OH\", \"NH2\"],\n",
    "    }\n",
    "\n",
    "    # Atom-based substitutions\n",
    "    for atom in mol.GetAtoms():\n",
    "        symbol = atom.GetSymbol()\n",
    "        if symbol in replacements:\n",
    "            for replacement in replacements[symbol]:\n",
    "                mol_copy = Chem.RWMol(mol)\n",
    "                idx = atom.GetIdx()\n",
    "                mol_copy.GetAtomWithIdx(idx).SetAtomicNum(\n",
    "                    Chem.GetPeriodicTable().GetAtomicNumber(replacement)\n",
    "                )\n",
    "                variant_smiles = Chem.MolToSmiles(mol_copy, isomericSmiles=True)\n",
    "                variants.add(variant_smiles)\n",
    "\n",
    "    # Reaction-based substitutions (functional group enumeration)\n",
    "    reaction_smarts = [\n",
    "        \"[C:1]F>>[C:1]Cl\",\n",
    "        \"[C:1]F>>[C:1]Br\",\n",
    "        \"[C:1]F>>[C:1]I\",\n",
    "        \"[O:1]>>[N:1]\",\n",
    "    ]\n",
    "    for rxn_smarts in reaction_smarts:\n",
    "        rxn = AllChem.ReactionFromSmarts(rxn_smarts)\n",
    "        products = rxn.RunReactants((mol,))\n",
    "        for product_set in products:\n",
    "            for product in product_set:\n",
    "                product_smiles = Chem.MolToSmiles(product, isomericSmiles=True)\n",
    "                variants.add(product_smiles)\n",
    "\n",
    "    # Return all unique enumerations\n",
    "    return list(variants)"
   ]
  },
  {
   "cell_type": "code",
   "execution_count": 5,
   "id": "25049b2c-5d16-4d65-9c26-38446ae27362",
   "metadata": {},
   "outputs": [],
   "source": [
    "# Calculate Leverage\n",
    "def calculate_leverage(x, X):\n",
    "    X = np.array(X)\n",
    "    x = np.array(x)\n",
    "    XTX_inv = np.linalg.inv(np.dot(X.T, X))\n",
    "    h = np.dot(np.dot(x.T, XTX_inv), x)\n",
    "    return h"
   ]
  },
  {
   "cell_type": "code",
   "execution_count": 6,
   "id": "559f4643-111b-4eb5-9a14-1ddfa69bdc33",
   "metadata": {},
   "outputs": [],
   "source": [
    "# Main function to process leads\n",
    "def process_leads(leads, training_data, cutoff):\n",
    "    # Extract training descriptors matrix (X) from the training data\n",
    "    descriptor_columns = training_data.columns[1:-1]  # All except Molecule and pEC50\n",
    "    X = training_data[descriptor_columns].values\n",
    "\n",
    "    results = []\n",
    "    for lead_smiles in leads:\n",
    "        enumerated_molecules = enumerate_molecules(lead_smiles)\n",
    "        for mol_smiles in enumerated_molecules:\n",
    "            try:\n",
    "                # Calculate descriptors using PadelPy\n",
    "                descriptors = from_smiles(mol_smiles)\n",
    "                relevant_descriptors = {name: float(descriptors[name]) for name in descriptor_columns}\n",
    "\n",
    "                # Predict pEC50\n",
    "                pec50 = calculate_pec50(relevant_descriptors)\n",
    "\n",
    "                # Calculate leverage\n",
    "                x = [relevant_descriptors[name] for name in descriptor_columns]\n",
    "                leverage = calculate_leverage(x, X)\n",
    "\n",
    "                # Add remark based on leverage\n",
    "                remark = \"Outlier\" if leverage > cutoff else \"Inside\"\n",
    "\n",
    "                # Append results\n",
    "                results.append({\n",
    "                    \"SMILES\": mol_smiles,\n",
    "                    **relevant_descriptors,\n",
    "                    \"pEC50\": pec50,\n",
    "                    \"Leverage\": leverage,\n",
    "                    \"Remark\": remark\n",
    "                })\n",
    "            except Exception as e:\n",
    "                print(f\"Error processing molecule {mol_smiles}: {e}\")\n",
    "\n",
    "    # Save results to CSV\n",
    "    df = pd.DataFrame(results)\n",
    "    df.to_csv(\"new_molecules.csv\", index=False)"
   ]
  },
  {
   "cell_type": "code",
   "execution_count": 10,
   "id": "44d6a9b7-b33d-4d5b-90ba-40be30d91c43",
   "metadata": {},
   "outputs": [],
   "source": [
    "# Load training data\n",
    "training_data = pd.read_csv(\"train_data.csv\")"
   ]
  },
  {
   "cell_type": "code",
   "execution_count": 11,
   "id": "7d6ebcbc-5bce-410d-b135-46722bbe3eb2",
   "metadata": {},
   "outputs": [],
   "source": [
    "# Input: Lead SMILES\n",
    "lead_smiles = [\n",
    "    \"O=C(Nc1nc(-c2cccc(C(F)(F)I)c2F)cs1)c1ccc(Nc2cc(N3CC(O)C3)ncn2)cc1\",\n",
    "    \"O=C(Nc1nc(-c2cccc(C(F)(F)Br)c2F)cs1)c1ccc(Nc2cc(N3CC(O)C3)ncn2)cc1\",\n",
    "    \"O=C(Nc1nc(-c2cccc(C(F)(F)F)c2Br)cs1)c1ccc(Nc2cc(N3CC(O)C3)ncn2)cc1\"\n",
    "]"
   ]
  },
  {
   "cell_type": "code",
   "execution_count": 12,
   "id": "a46980c3-21ff-40fd-b6c6-95f8370431be",
   "metadata": {},
   "outputs": [],
   "source": [
    "# Set leverage cutoff value\n",
    "cutoff = 0.37\n",
    "\n",
    "# Process leads and save results\n",
    "process_leads(lead_smiles, training_data, cutoff)"
   ]
  },
  {
   "cell_type": "code",
   "execution_count": 15,
   "id": "6158befd-796a-4610-a30d-9abe41a290ee",
   "metadata": {},
   "outputs": [
    {
     "data": {
      "text/html": [
       "<div>\n",
       "<style scoped>\n",
       "    .dataframe tbody tr th:only-of-type {\n",
       "        vertical-align: middle;\n",
       "    }\n",
       "\n",
       "    .dataframe tbody tr th {\n",
       "        vertical-align: top;\n",
       "    }\n",
       "\n",
       "    .dataframe thead th {\n",
       "        text-align: right;\n",
       "    }\n",
       "</style>\n",
       "<table border=\"1\" class=\"dataframe\">\n",
       "  <thead>\n",
       "    <tr style=\"text-align: right;\">\n",
       "      <th></th>\n",
       "      <th>SMILES</th>\n",
       "      <th>MDEC-33</th>\n",
       "      <th>VE1_Dzp</th>\n",
       "      <th>ATSC6e</th>\n",
       "      <th>minaaN</th>\n",
       "      <th>SpMax4_Bhm</th>\n",
       "      <th>nAtomLAC</th>\n",
       "      <th>VE3_Dzs</th>\n",
       "      <th>pEC50</th>\n",
       "      <th>Leverage</th>\n",
       "      <th>Remark</th>\n",
       "    </tr>\n",
       "  </thead>\n",
       "  <tbody>\n",
       "    <tr>\n",
       "      <th>0</th>\n",
       "      <td>O=C(Nc1nc(-c2cccc(C(F)(F)I)c2Br)cs1)c1ccc(Nc2c...</td>\n",
       "      <td>9.897105</td>\n",
       "      <td>0.228187</td>\n",
       "      <td>-0.243374</td>\n",
       "      <td>4.259471</td>\n",
       "      <td>3.877958</td>\n",
       "      <td>0.0</td>\n",
       "      <td>-8.342843</td>\n",
       "      <td>10.147511</td>\n",
       "      <td>0.118368</td>\n",
       "      <td>Inside</td>\n",
       "    </tr>\n",
       "    <tr>\n",
       "      <th>1</th>\n",
       "      <td>[H]c1c(-c2csc(NC(=O)c3ccc(Nc4cc(N5CC(O)C5)ncn4...</td>\n",
       "      <td>7.906650</td>\n",
       "      <td>0.164997</td>\n",
       "      <td>-0.470203</td>\n",
       "      <td>4.251473</td>\n",
       "      <td>3.794571</td>\n",
       "      <td>0.0</td>\n",
       "      <td>-8.187258</td>\n",
       "      <td>7.512366</td>\n",
       "      <td>0.122494</td>\n",
       "      <td>Inside</td>\n",
       "    </tr>\n",
       "    <tr>\n",
       "      <th>2</th>\n",
       "      <td>O=C(Nc1nc(-c2cccc(C(F)(F)I)c2Cl)cs1)c1ccc(Nc2c...</td>\n",
       "      <td>9.897105</td>\n",
       "      <td>0.224944</td>\n",
       "      <td>-0.147025</td>\n",
       "      <td>4.258499</td>\n",
       "      <td>3.802752</td>\n",
       "      <td>0.0</td>\n",
       "      <td>-8.062742</td>\n",
       "      <td>8.005923</td>\n",
       "      <td>0.147141</td>\n",
       "      <td>Inside</td>\n",
       "    </tr>\n",
       "    <tr>\n",
       "      <th>3</th>\n",
       "      <td>O=C(Nc1nc(-c2cccc(C(F)(F)I)c2I)cs1)c1ccc(Nc2cc...</td>\n",
       "      <td>9.897105</td>\n",
       "      <td>0.231670</td>\n",
       "      <td>-0.404269</td>\n",
       "      <td>4.259609</td>\n",
       "      <td>3.880084</td>\n",
       "      <td>0.0</td>\n",
       "      <td>-8.397966</td>\n",
       "      <td>10.219318</td>\n",
       "      <td>0.123700</td>\n",
       "      <td>Inside</td>\n",
       "    </tr>\n",
       "    <tr>\n",
       "      <th>4</th>\n",
       "      <td>O=C(Nc1nc(-c2cccc(C(F)(Br)I)c2F)cs1)c1ccc(Nc2c...</td>\n",
       "      <td>9.897105</td>\n",
       "      <td>0.232414</td>\n",
       "      <td>0.011658</td>\n",
       "      <td>4.254685</td>\n",
       "      <td>3.884043</td>\n",
       "      <td>0.0</td>\n",
       "      <td>-9.318228</td>\n",
       "      <td>10.351553</td>\n",
       "      <td>0.117986</td>\n",
       "      <td>Inside</td>\n",
       "    </tr>\n",
       "  </tbody>\n",
       "</table>\n",
       "</div>"
      ],
      "text/plain": [
       "                                              SMILES   MDEC-33   VE1_Dzp   \n",
       "0  O=C(Nc1nc(-c2cccc(C(F)(F)I)c2Br)cs1)c1ccc(Nc2c...  9.897105  0.228187  \\\n",
       "1  [H]c1c(-c2csc(NC(=O)c3ccc(Nc4cc(N5CC(O)C5)ncn4...  7.906650  0.164997   \n",
       "2  O=C(Nc1nc(-c2cccc(C(F)(F)I)c2Cl)cs1)c1ccc(Nc2c...  9.897105  0.224944   \n",
       "3  O=C(Nc1nc(-c2cccc(C(F)(F)I)c2I)cs1)c1ccc(Nc2cc...  9.897105  0.231670   \n",
       "4  O=C(Nc1nc(-c2cccc(C(F)(Br)I)c2F)cs1)c1ccc(Nc2c...  9.897105  0.232414   \n",
       "\n",
       "     ATSC6e    minaaN  SpMax4_Bhm  nAtomLAC   VE3_Dzs      pEC50  Leverage   \n",
       "0 -0.243374  4.259471    3.877958       0.0 -8.342843  10.147511  0.118368  \\\n",
       "1 -0.470203  4.251473    3.794571       0.0 -8.187258   7.512366  0.122494   \n",
       "2 -0.147025  4.258499    3.802752       0.0 -8.062742   8.005923  0.147141   \n",
       "3 -0.404269  4.259609    3.880084       0.0 -8.397966  10.219318  0.123700   \n",
       "4  0.011658  4.254685    3.884043       0.0 -9.318228  10.351553  0.117986   \n",
       "\n",
       "   Remark  \n",
       "0  Inside  \n",
       "1  Inside  \n",
       "2  Inside  \n",
       "3  Inside  \n",
       "4  Inside  "
      ]
     },
     "execution_count": 15,
     "metadata": {},
     "output_type": "execute_result"
    }
   ],
   "source": [
    "df = pd.read_csv(\"new_molecules.csv\")\n",
    "df.head()"
   ]
  },
  {
   "cell_type": "markdown",
   "id": "6b68de3c-c936-4649-a48b-a1597d0ad13b",
   "metadata": {},
   "source": [
    "### 2. Extract molecules with higher activity and inside the applicability domain ###"
   ]
  },
  {
   "cell_type": "code",
   "execution_count": 16,
   "id": "c6836585-b22c-42a4-a78c-31393d0bb800",
   "metadata": {},
   "outputs": [
    {
     "name": "stdout",
     "output_type": "stream",
     "text": [
      "                                               SMILES      pEC50\n",
      "12  O=C(Nc1nc(-c2cccc(C(F)(Br)Br)c2F)cs1)c1ccc(Nc2...  10.354281\n",
      "4   O=C(Nc1nc(-c2cccc(C(F)(Br)I)c2F)cs1)c1ccc(Nc2c...  10.351553\n",
      "16  O=C(Nc1nc(-c2cccc(C(F)(Br)I)c2F)cs1)c1ccc(Nc2c...  10.351553\n",
      "7   O=C(Nc1nc(-c2cccc(C(F)(I)I)c2F)cs1)c1ccc(Nc2cc...  10.350985\n",
      "3   O=C(Nc1nc(-c2cccc(C(F)(F)I)c2I)cs1)c1ccc(Nc2cc...  10.219318\n",
      "20  O=C(Nc1nc(-c2cccc(C(F)(F)Br)c2I)cs1)c1ccc(Nc2c...  10.217241\n",
      "0   O=C(Nc1nc(-c2cccc(C(F)(F)I)c2Br)cs1)c1ccc(Nc2c...  10.147511\n",
      "29  O=C(Nc1nc(-c2cccc(C(F)(F)I)c2Br)cs1)c1ccc(Nc2c...  10.147511\n",
      "21  O=C(Nc1nc(-c2cccc(C(F)(F)Br)c2Br)cs1)c1ccc(Nc2...  10.143638\n",
      "32  O=C(Nc1nc(-c2cccc(C(F)(F)Br)c2Br)cs1)c1ccc(Nc2...  10.143638\n",
      "28  O=C(Nc1nc(-c2cccc(C(F)(F)Cl)c2Br)cs1)c1ccc(Nc2...   8.903441\n",
      "17  [H]C(F)(Br)c1cccc(-c2csc(NC(=O)c3ccc(Nc4cc(N5C...   8.529132\n",
      "8   [H]C(F)(I)c1cccc(-c2csc(NC(=O)c3ccc(Nc4cc(N5CC...   8.528930\n",
      "30  [H]C(F)(F)c1cccc(-c2csc(NC(=O)c3ccc(Nc4cc(N5CC...   8.423636\n",
      "18  O=C(Nc1nc(-c2cccc(C(F)(F)Br)c2Cl)cs1)c1ccc(Nc2...   8.006874\n",
      "2   O=C(Nc1nc(-c2cccc(C(F)(F)I)c2Cl)cs1)c1ccc(Nc2c...   8.005923\n"
     ]
    }
   ],
   "source": [
    "# Define the cutoff value\n",
    "cutoff_value = 8.0  \n",
    "\n",
    "# Filter the DataFrame\n",
    "filtered_df = df[(df['pEC50'] > cutoff_value) & (df['Remark'] == 'Inside')]\n",
    "\n",
    "# Select relevant columns and sort by pEC50 in descending order\n",
    "result_df = filtered_df[['SMILES', 'pEC50']].sort_values(by='pEC50', ascending=False)\n",
    "\n",
    "# Display the resulting DataFrame\n",
    "print(result_df)"
   ]
  },
  {
   "cell_type": "code",
   "execution_count": 18,
   "id": "69578bfa-54ee-45a5-b72a-8a2b0ab94bc2",
   "metadata": {},
   "outputs": [],
   "source": [
    "result_df.to_csv(\"new_molecules_filtered.csv\", index=False)"
   ]
  },
  {
   "cell_type": "code",
   "execution_count": 19,
   "id": "0dc99cc6-d90e-449c-a011-510bd5fa9ec4",
   "metadata": {},
   "outputs": [
    {
     "name": "stdout",
     "output_type": "stream",
     "text": [
      "<class 'pandas.core.frame.DataFrame'>\n",
      "Index: 16 entries, 12 to 2\n",
      "Data columns (total 2 columns):\n",
      " #   Column  Non-Null Count  Dtype  \n",
      "---  ------  --------------  -----  \n",
      " 0   SMILES  16 non-null     object \n",
      " 1   pEC50   16 non-null     float64\n",
      "dtypes: float64(1), object(1)\n",
      "memory usage: 384.0+ bytes\n"
     ]
    }
   ],
   "source": [
    "result_df.info()"
   ]
  },
  {
   "cell_type": "markdown",
   "id": "553bc954-c66b-49b3-9181-31ff319f48d9",
   "metadata": {},
   "source": [
    "### 3. Check if the SMILES are valid"
   ]
  },
  {
   "cell_type": "code",
   "execution_count": 20,
   "id": "f7b231a1-4553-4dfe-8b82-127bbfc6469f",
   "metadata": {},
   "outputs": [
    {
     "name": "stdout",
     "output_type": "stream",
     "text": [
      "                                               SMILES      pEC50   \n",
      "12  O=C(Nc1nc(-c2cccc(C(F)(Br)Br)c2F)cs1)c1ccc(Nc2...  10.354281  \\\n",
      "4   O=C(Nc1nc(-c2cccc(C(F)(Br)I)c2F)cs1)c1ccc(Nc2c...  10.351553   \n",
      "16  O=C(Nc1nc(-c2cccc(C(F)(Br)I)c2F)cs1)c1ccc(Nc2c...  10.351553   \n",
      "7   O=C(Nc1nc(-c2cccc(C(F)(I)I)c2F)cs1)c1ccc(Nc2cc...  10.350985   \n",
      "3   O=C(Nc1nc(-c2cccc(C(F)(F)I)c2I)cs1)c1ccc(Nc2cc...  10.219318   \n",
      "20  O=C(Nc1nc(-c2cccc(C(F)(F)Br)c2I)cs1)c1ccc(Nc2c...  10.217241   \n",
      "0   O=C(Nc1nc(-c2cccc(C(F)(F)I)c2Br)cs1)c1ccc(Nc2c...  10.147511   \n",
      "29  O=C(Nc1nc(-c2cccc(C(F)(F)I)c2Br)cs1)c1ccc(Nc2c...  10.147511   \n",
      "21  O=C(Nc1nc(-c2cccc(C(F)(F)Br)c2Br)cs1)c1ccc(Nc2...  10.143638   \n",
      "32  O=C(Nc1nc(-c2cccc(C(F)(F)Br)c2Br)cs1)c1ccc(Nc2...  10.143638   \n",
      "28  O=C(Nc1nc(-c2cccc(C(F)(F)Cl)c2Br)cs1)c1ccc(Nc2...   8.903441   \n",
      "17  [H]C(F)(Br)c1cccc(-c2csc(NC(=O)c3ccc(Nc4cc(N5C...   8.529132   \n",
      "8   [H]C(F)(I)c1cccc(-c2csc(NC(=O)c3ccc(Nc4cc(N5CC...   8.528930   \n",
      "30  [H]C(F)(F)c1cccc(-c2csc(NC(=O)c3ccc(Nc4cc(N5CC...   8.423636   \n",
      "18  O=C(Nc1nc(-c2cccc(C(F)(F)Br)c2Cl)cs1)c1ccc(Nc2...   8.006874   \n",
      "2   O=C(Nc1nc(-c2cccc(C(F)(F)I)c2Cl)cs1)c1ccc(Nc2c...   8.005923   \n",
      "\n",
      "    Is_Valid_SMILES  \n",
      "12             True  \n",
      "4              True  \n",
      "16             True  \n",
      "7              True  \n",
      "3              True  \n",
      "20             True  \n",
      "0              True  \n",
      "29             True  \n",
      "21             True  \n",
      "32             True  \n",
      "28             True  \n",
      "17             True  \n",
      "8              True  \n",
      "30             True  \n",
      "18             True  \n",
      "2              True  \n"
     ]
    }
   ],
   "source": [
    "from rdkit import Chem\n",
    "\n",
    "# Function to check if a SMILES string is valid\n",
    "def is_valid_smiles(smiles):\n",
    "    try:\n",
    "        mol = Chem.MolFromSmiles(smiles)\n",
    "        return mol is not None\n",
    "    except:\n",
    "        return False\n",
    "\n",
    "# Add a column to result_df indicating whether the SMILES is valid\n",
    "result_df['Is_Valid_SMILES'] = result_df['SMILES'].apply(is_valid_smiles)\n",
    "\n",
    "# Display the updated DataFrame\n",
    "print(result_df)\n",
    "\n",
    "# Optionally, filter out invalid SMILES\n",
    "valid_smiles_df = result_df[result_df['Is_Valid_SMILES'] == True]\n",
    "\n",
    "# Save the filtered DataFrame if needed\n",
    "valid_smiles_df.to_csv('valid_smiles.csv', index=False)"
   ]
  },
  {
   "cell_type": "code",
   "execution_count": null,
   "id": "359cbaf4-0743-44b7-a4c2-f8dae4dfe855",
   "metadata": {},
   "outputs": [],
   "source": []
  }
 ],
 "metadata": {
  "kernelspec": {
   "display_name": "Python 3 (ipykernel)",
   "language": "python",
   "name": "python3"
  },
  "language_info": {
   "codemirror_mode": {
    "name": "ipython",
    "version": 3
   },
   "file_extension": ".py",
   "mimetype": "text/x-python",
   "name": "python",
   "nbconvert_exporter": "python",
   "pygments_lexer": "ipython3",
   "version": "3.12.0"
  }
 },
 "nbformat": 4,
 "nbformat_minor": 5
}
