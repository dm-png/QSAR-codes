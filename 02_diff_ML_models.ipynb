{
 "cells": [
  {
   "cell_type": "markdown",
   "id": "9c256ae7-d41d-412b-a102-717e4fcbda2f",
   "metadata": {},
   "source": [
    "## Different machine learning models"
   ]
  },
  {
   "cell_type": "markdown",
   "id": "3fb4e9f5-2a17-45a9-b81d-9a281013f660",
   "metadata": {},
   "source": [
    "### Import libraries"
   ]
  },
  {
   "cell_type": "code",
   "execution_count": null,
   "id": "5f4d9e8d-741f-4bbc-9771-203ff9f640f9",
   "metadata": {},
   "outputs": [],
   "source": [
    "import pandas as pd\n",
    "import numpy as np\n",
    "import matplotlib.pyplot as plt\n",
    "import matplotlib.ticker as ticker\n",
    "import seaborn as sns"
   ]
  },
  {
   "cell_type": "markdown",
   "id": "5faa51ff-0c7a-4b1b-8cfb-e948ce0554dd",
   "metadata": {},
   "source": [
    "### Import the dataset"
   ]
  },
  {
   "cell_type": "code",
   "execution_count": null,
   "id": "95731984-b50e-4d90-8f0a-b656a08c8f22",
   "metadata": {},
   "outputs": [],
   "source": [
    "dataset = pd.read_csv('/padel/selected_features.csv')\n",
    "\n",
    "selected_features = ['MDEC-33', 'VE1_Dzp', 'ATSC6e', 'minaaN', 'SpMax4_Bhm', 'nAtomLAC', 'VE3_Dzs']\n",
    "\n",
    "# Separate 'Molecule', features (X), and target (y)\n",
    "molecule = dataset[['Molecule']]            # Molecule column as DataFrame\n",
    "X = dataset[selected_features]              # Selected features as DataFrame\n",
    "y = dataset[['pEC50']]                      # Target (pIC50) column as DataFrame\n",
    "\n",
    "# Concatenate Molecule, X, and y into a single DataFrame for train-test split\n",
    "full_data = pd.concat([molecule, X, y], axis=1)"
   ]
  },
  {
   "cell_type": "markdown",
   "id": "a85cc9fd-7bf6-4d51-97e0-e39f7c33e0bd",
   "metadata": {},
   "source": [
    "### Splitting the dataset into the Training set and Test set"
   ]
  },
  {
   "cell_type": "code",
   "execution_count": null,
   "id": "20b3af7c-fba8-453b-ae6e-03114efa6903",
   "metadata": {},
   "outputs": [],
   "source": [
    "from sklearn.model_selection import train_test_split\n",
    "\n",
    "# Bin y into bins\n",
    "y_binned = pd.qcut(y.squeeze(), q=5, duplicates='drop')\n",
    "\n",
    "# Perform the train-test split on the full DataFrame\n",
    "train_data, test_data = train_test_split(full_data, test_size=0.2, random_state=42, stratify=y_binned)\n",
    "\n",
    "# Save the training data to 'train_data.csv'\n",
    "train_data.to_csv('/padel/train_data.csv', index=False)\n",
    "print(\"Training data saved to 'train_data.csv'.\")\n",
    "\n",
    "# Save the test data to 'test_data.csv'\n",
    "test_data.to_csv('/padel/test_data.csv', index=False)\n",
    "print(\"Test data saved to 'test_data.csv'.\")"
   ]
  },
  {
   "cell_type": "code",
   "execution_count": null,
   "id": "56c5578b-3fb3-4252-84bb-d860aa8b11fe",
   "metadata": {},
   "outputs": [],
   "source": [
    "print(train_data.shape)\n",
    "print(test_data.shape)"
   ]
  },
  {
   "cell_type": "code",
   "execution_count": null,
   "id": "24fbe342-a788-44c1-ba89-b5e7fb02f839",
   "metadata": {},
   "outputs": [],
   "source": [
    "# Plotting the distribution of pIC50 for each set\n",
    "plt.figure(figsize=(10, 6))\n",
    "\n",
    "# Plot for the full dataset\n",
    "plt.hist(full_data['pEC50'], bins=20, alpha=0.5, color='blue', label='Total Set')\n",
    "\n",
    "# Plot for the training set\n",
    "plt.hist(train_data['pEC50'], bins=20, alpha=0.5, color='green', label='Training Set')\n",
    "\n",
    "# Plot for the test set\n",
    "plt.hist(test_data['pEC50'], bins=20, alpha=0.5, color='red', label='Test Set')\n",
    "\n",
    "# Add title and labels\n",
    "plt.title('Distribution of pIC50 values')\n",
    "plt.xlabel('pEC50')\n",
    "plt.ylabel('Frequency')\n",
    "plt.legend()\n",
    "\n",
    "# Show plot\n",
    "plt.show()"
   ]
  },
  {
   "cell_type": "code",
   "execution_count": null,
   "id": "ed0caf48-7812-47d8-bb53-8be429d9c67f",
   "metadata": {},
   "outputs": [],
   "source": [
    "# Plotting Kernel Density\n",
    "plt.figure(figsize=(8, 6))\n",
    "sns.set_style(\"ticks\")\n",
    "\n",
    "sns.kdeplot(full_data['pEC50'], color='blue', label='Total Set', fill=True, alpha=0.3, linewidth=2)\n",
    "sns.kdeplot(train_data['pEC50'], color='green', label='Training Set', fill=True, alpha=0.3, linewidth=2)\n",
    "sns.kdeplot(test_data['pEC50'], color='red', label='Test Set', fill=True, alpha=0.3, linewidth=2)\n",
    "\n",
    "#plt.title('Probability')\n",
    "plt.xlabel('pEC50', fontsize=18, fontweight='bold', labelpad=15)\n",
    "plt.ylabel('Probability', fontsize=18, fontweight='bold', labelpad=15)\n",
    "plt.legend(title_fontsize=12, fontsize=12, loc='upper right')\n",
    "\n",
    "plt.xticks(fontsize=14, fontweight='bold')\n",
    "plt.yticks(fontsize=14, fontweight='bold')\n",
    "\n",
    "plt.tick_params(axis='both', which='major', length=8, width=2, labelsize=14)  # Major ticks\n",
    "plt.tick_params(axis='both', which='minor', length=4, width=2, labelsize=12)  # Minor ticks\n",
    "\n",
    "ax = plt.gca()  # Get current axes\n",
    "ax.xaxis.set_major_locator(ticker.MultipleLocator(1.0))  # Major ticks every 0.5\n",
    "ax.xaxis.set_minor_locator(ticker.AutoMinorLocator(1))  # 2 minor ticks between major ticks\n",
    "ax.yaxis.set_major_locator(ticker.MultipleLocator(0.1))  # Major ticks every 0.1\n",
    "\n",
    "plt.tick_params(axis='both', which='major', direction='in', length=8, width=2, labelsize=16)  # Major ticks\n",
    "plt.tick_params(axis='both', which='minor', direction='in', length=4, width=2)  # Minor ticks\n",
    "\n",
    "for spine in ax.spines.values():\n",
    "    spine.set_linewidth(3)\n",
    "\n",
    "# Add minor ticks\n",
    "ax.minorticks_on()\n",
    "\n",
    "plt.show()\n",
    "\n",
    "plt.savefig(\"/padel/dist_pEC50.jpg\", format='jpg', dpi=600)"
   ]
  },
  {
   "cell_type": "code",
   "execution_count": null,
   "id": "c555326f-4e54-4e3e-87a5-8987116d13c3",
   "metadata": {},
   "outputs": [],
   "source": [
    "X_train = train_data.iloc[:, 1:-1].values\n",
    "y_train = train_data.iloc[:, -1].values\n",
    "X_test = test_data.iloc[:, 1:-1].values\n",
    "y_test = test_data.iloc[:, -1].values"
   ]
  },
  {
   "cell_type": "markdown",
   "id": "cb9cc6c7-0a42-42ea-b5ad-39c123d2b913",
   "metadata": {},
   "source": [
    "### 1. Multiple linear regression"
   ]
  },
  {
   "cell_type": "code",
   "execution_count": null,
   "id": "acc79443-927a-4d1e-9b36-82c817ea2b47",
   "metadata": {},
   "outputs": [],
   "source": [
    "from sklearn.linear_model import LinearRegression\n",
    "regressor = LinearRegression()\n",
    "regressor.fit(X_train, y_train)"
   ]
  },
  {
   "cell_type": "code",
   "execution_count": null,
   "id": "9e465da7-9389-4e62-8987-4cd5657d1204",
   "metadata": {},
   "outputs": [],
   "source": [
    "y_train_pred = regressor.predict(X_train)\n",
    "y_test_pred = regressor.predict(X_test)"
   ]
  },
  {
   "cell_type": "code",
   "execution_count": null,
   "id": "7544efe4-022b-4228-be28-81a944954454",
   "metadata": {},
   "outputs": [],
   "source": [
    "from sklearn.metrics import r2_score\n",
    "print(r2_score(y_train, y_train_pred))\n",
    "print(r2_score(y_test, y_test_pred))"
   ]
  },
  {
   "cell_type": "code",
   "execution_count": null,
   "id": "b6bcb7d2-6d71-49b9-9971-d99bafffe9e5",
   "metadata": {},
   "outputs": [],
   "source": [
    "from sklearn.model_selection import cross_val_score\n",
    "scores = cross_val_score(regressor, X_train, y_train, cv=5)\n",
    "print(\"Cross-validation scores:\", scores)\n",
    "print(\"Mean performance:\", scores.mean())"
   ]
  },
  {
   "cell_type": "code",
   "execution_count": null,
   "id": "c00bab4a-02f2-469a-882c-3fafb7348360",
   "metadata": {},
   "outputs": [],
   "source": [
    "# Get the intercept\n",
    "intercept = regressor.intercept_\n",
    "\n",
    "# Get the coefficients\n",
    "coefficients = regressor.coef_\n",
    "\n",
    "print(f\"Intercept: {intercept}\")\n",
    "print(f\"Coefficients: {coefficients}\")"
   ]
  },
  {
   "cell_type": "code",
   "execution_count": null,
   "id": "8a169552-88bf-4d9d-90f5-93a3e5db940a",
   "metadata": {},
   "outputs": [],
   "source": [
    "# Assuming feature names are stored in a list\n",
    "feature_names = ['MDEC-33', 'VE1_Dzp', 'ATSC6e', 'minaaN', 'SpMax4_Bhm', 'nAtomLAC', 'VE3_Dzs']\n",
    "\n",
    "# Create a mapping of feature names to coefficients\n",
    "coef_mapping = dict(zip(feature_names, coefficients))\n",
    "print(\"Feature Coefficients:\")\n",
    "print(coef_mapping)"
   ]
  },
  {
   "cell_type": "code",
   "execution_count": null,
   "id": "01f583c7-f8f6-4fae-9772-91a249a95f83",
   "metadata": {},
   "outputs": [],
   "source": [
    "# Add predicted values as a new column next to 'pEC50'\n",
    "train_data['pEC50_pred'] = y_train_pred\n",
    "test_data['pEC50_pred'] = y_test_pred\n",
    "\n",
    "# Save the updated DataFrames to new CSV files\n",
    "train_data.to_csv('/padel/train_data_pred.csv', index=False)\n",
    "test_data.to_csv('/padel/test_data_pred.csv', index=False)"
   ]
  },
  {
   "cell_type": "markdown",
   "id": "1f7f04a0-40bc-49bc-9f99-7f76fc991ec2",
   "metadata": {},
   "source": [
    "### 2. Polynomial regression"
   ]
  },
  {
   "cell_type": "code",
   "execution_count": null,
   "id": "2120b41e-c432-45e7-9a91-d3ef4098a064",
   "metadata": {},
   "outputs": [],
   "source": [
    "from sklearn.preprocessing import PolynomialFeatures\n",
    "from sklearn.linear_model import LinearRegression\n",
    "poly_reg = PolynomialFeatures(degree = 2)\n",
    "X_poly = poly_reg.fit_transform(X_train)\n",
    "regressor = LinearRegression()\n",
    "regressor.fit(X_poly, y_train)"
   ]
  },
  {
   "cell_type": "code",
   "execution_count": null,
   "id": "75e8ab54-ad2c-4474-9363-1a5ecf1b4413",
   "metadata": {},
   "outputs": [],
   "source": [
    "y_train_pred = regressor.predict(poly_reg.transform(X_train))\n",
    "y_test_pred = regressor.predict(poly_reg.transform(X_test))"
   ]
  },
  {
   "cell_type": "code",
   "execution_count": null,
   "id": "dc0d0387-62c1-4af5-a253-e7a988e10a04",
   "metadata": {},
   "outputs": [],
   "source": [
    "from sklearn.metrics import r2_score\n",
    "print(r2_score(y_train, y_train_pred))\n",
    "print(r2_score(y_test, y_test_pred))"
   ]
  },
  {
   "cell_type": "code",
   "execution_count": null,
   "id": "491f8eb8-eb58-4591-b292-99ef8956388e",
   "metadata": {},
   "outputs": [],
   "source": [
    "from sklearn.model_selection import cross_val_score\n",
    "scores = cross_val_score(regressor, X_train, y_train, cv=5)\n",
    "print(\"Cross-validation scores:\", scores)\n",
    "print(\"Mean performance:\", scores.mean())"
   ]
  },
  {
   "cell_type": "markdown",
   "id": "c1588303-8f83-49d7-b156-81ed28a9a921",
   "metadata": {},
   "source": [
    "### 3. Decission tree"
   ]
  },
  {
   "cell_type": "code",
   "execution_count": null,
   "id": "0c2f9d99-dc08-4630-8ceb-30a666d4f04a",
   "metadata": {},
   "outputs": [],
   "source": [
    "from sklearn.tree import DecisionTreeRegressor\n",
    "regressor = DecisionTreeRegressor(random_state = 42)\n",
    "regressor.fit(X_train, y_train)"
   ]
  },
  {
   "cell_type": "code",
   "execution_count": null,
   "id": "541a3f7e-2c0e-4107-98bc-a3ef596a5dc4",
   "metadata": {},
   "outputs": [],
   "source": [
    "y_train_pred = regressor.predict(X_train)\n",
    "y_test_pred = regressor.predict(X_test)"
   ]
  },
  {
   "cell_type": "code",
   "execution_count": null,
   "id": "153f1f67-370a-4642-9f0f-2bfcb68c00a1",
   "metadata": {},
   "outputs": [],
   "source": [
    "from sklearn.metrics import r2_score\n",
    "print(r2_score(y_train, y_train_pred))\n",
    "print(r2_score(y_test, y_test_pred))"
   ]
  },
  {
   "cell_type": "code",
   "execution_count": null,
   "id": "f0f2a87d-0248-424b-ba1b-171bdca24645",
   "metadata": {},
   "outputs": [],
   "source": [
    "from sklearn.model_selection import cross_val_score\n",
    "scores = cross_val_score(regressor, X_train, y_train, cv=5)\n",
    "print(\"Cross-validation scores:\", scores)\n",
    "print(\"Mean performance:\", scores.mean())"
   ]
  },
  {
   "cell_type": "markdown",
   "id": "f5cf91bb-d734-4ee1-a380-1f4f234b13fe",
   "metadata": {},
   "source": [
    "### 4. Random Forest "
   ]
  },
  {
   "cell_type": "code",
   "execution_count": null,
   "id": "46810882-72c5-4f91-b507-b24fc7c2136c",
   "metadata": {},
   "outputs": [],
   "source": [
    "from sklearn.ensemble import RandomForestRegressor\n",
    "regressor = RandomForestRegressor(n_estimators = 10, random_state = 42)\n",
    "regressor.fit(X_train, y_train)"
   ]
  },
  {
   "cell_type": "code",
   "execution_count": null,
   "id": "eb5cee80-d443-41f4-9573-542ed5ea5416",
   "metadata": {},
   "outputs": [],
   "source": [
    "y_train_pred = regressor.predict(X_train)\n",
    "y_test_pred = regressor.predict(X_test)"
   ]
  },
  {
   "cell_type": "code",
   "execution_count": null,
   "id": "a6f0638e-29ef-47f9-9b9c-1f668ee329d6",
   "metadata": {},
   "outputs": [],
   "source": [
    "from sklearn.metrics import r2_score\n",
    "print(r2_score(y_train, y_train_pred))\n",
    "print(r2_score(y_test, y_test_pred))"
   ]
  },
  {
   "cell_type": "code",
   "execution_count": null,
   "id": "6eb960f4-0f75-4ff5-85de-f5e5df549a24",
   "metadata": {},
   "outputs": [],
   "source": [
    "from sklearn.model_selection import cross_val_score\n",
    "scores = cross_val_score(regressor, X_train, y_train, cv=5)\n",
    "print(\"Cross-validation scores:\", scores)\n",
    "print(\"Mean performance:\", scores.mean())"
   ]
  }
 ],
 "metadata": {
  "kernelspec": {
   "display_name": "Python 3 (ipykernel)",
   "language": "python",
   "name": "python3"
  },
  "language_info": {
   "codemirror_mode": {
    "name": "ipython",
    "version": 3
   },
   "file_extension": ".py",
   "mimetype": "text/x-python",
   "name": "python",
   "nbconvert_exporter": "python",
   "pygments_lexer": "ipython3",
   "version": "3.12.0"
  }
 },
 "nbformat": 4,
 "nbformat_minor": 5
}
